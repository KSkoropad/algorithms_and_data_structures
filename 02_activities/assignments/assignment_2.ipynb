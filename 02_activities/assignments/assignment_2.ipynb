{
 "cells": [
  {
   "cell_type": "markdown",
   "metadata": {},
   "source": [
    "# Practice Interview\n",
    "\n",
    "## Objective\n",
    "\n",
    "_*The partner assignment aims to provide participants with the opportunity to practice coding in an interview context. You will analyze your partner's Assignment 1. Moreover, code reviews are common practice in a software development team. This assignment should give you a taste of the code review process.*_\n",
    "\n",
    "## Group Size\n",
    "\n",
    "Each group should have 2 people. You will be assigned a partner\n",
    "\n",
    "## Part 1:\n",
    "\n",
    "You and your partner must share each other's Assignment 1 submission."
   ]
  },
  {
   "cell_type": "markdown",
   "metadata": {},
   "source": [
    "\n",
    "## Part 2:\n",
    "\n",
    "Create a Jupyter Notebook, create 6 of the following headings, and complete the following for your partner's assignment 1:\n",
    "\n",
    "-   Paraphrase the problem in your own words.\n"
   ]
  },
  {
   "cell_type": "code",
   "execution_count": null,
   "metadata": {},
   "outputs": [],
   "source": [
    "# Your answer here\n",
    "# In the range of integers from 0 to n, identify any missing numbers. If there are missing numbers, \n",
    "# return a list containing those numbers. If there are no missing numbers, return [-1]."
   ]
  },
  {
   "cell_type": "markdown",
   "metadata": {},
   "source": [
    "\n",
    "-   Create 1 new example that demonstrates you understand the problem. Trace/walkthrough 1 example that your partner made and explain it.\n"
   ]
  },
  {
   "cell_type": "code",
   "execution_count": null,
   "metadata": {},
   "outputs": [],
   "source": [
    "# Your answer here\n",
    "# Example\n",
    "# Input lst[5, 5, 1, 0, 4, 3, 2]\n",
    "# Output[-1] no missing numbers\n",
    "\n",
    "#e.g 1\n",
    "# Input 1st = [ 3, 0, 1, 4]\n",
    "# Output: [2]\n",
    "# given a list of numbers in rang 0-4. There are 3, 0, 1, 4 in this list, so, missing number is 2 (output)"
   ]
  },
  {
   "cell_type": "markdown",
   "metadata": {},
   "source": [
    "\n",
    "-   Copy the solution your partner wrote. \n"
   ]
  },
  {
   "cell_type": "code",
   "execution_count": 16,
   "metadata": {},
   "outputs": [
    {
     "name": "stdout",
     "output_type": "stream",
     "text": [
      "[1]\n"
     ]
    }
   ],
   "source": [
    "# Your answer here\n",
    "\n",
    "def missing_num(nums: list[int]) -> list[int]:\n",
    "    n = len(nums)\n",
    "    complete_set = set(range(n + 1))\n",
    "    nums_set = set(nums)\n",
    "    missing = list(complete_set - nums_set)\n",
    "    return missing if missing else [-1]\n",
    "\n",
    "\n",
    "lst = [0, 2]\n",
    "print(missing_num(lst))  # Output: [1]"
   ]
  },
  {
   "cell_type": "markdown",
   "metadata": {},
   "source": [
    "\n",
    "-   Explain why their solution works in your own words.\n"
   ]
  },
  {
   "cell_type": "code",
   "execution_count": null,
   "metadata": {},
   "outputs": [],
   "source": [
    "# Your answer here\n",
    "# Complete Set: complete_set is created using range(n + 1), which ensures it contains all numbers from 0 to n.\n",
    "# Set Operations: By converting nums into a set (nums_set) and performing a set difference (complete_set - nums_set), \n",
    "# the function efficiently identifies any missing numbers.\n",
    "# Edge Case Handling: If missing is empty (meaning no numbers are missing), the function returns [-1]\n",
    "# In the list of [0, 2], it correctly identifies 1 as the missing number and returns [1]. "
   ]
  },
  {
   "cell_type": "markdown",
   "metadata": {},
   "source": [
    "\n",
    "-   Explain the problem’s time and space complexity in your own words.\n"
   ]
  },
  {
   "cell_type": "code",
   "execution_count": 5,
   "metadata": {},
   "outputs": [],
   "source": [
    "# Your answer here\n",
    "# As main operations here are creating complete_set and nums_set, they both are O(n),\n",
    "# so, time complexity of the function will be O(n)\n",
    "\n",
    "# The function missing_num uses O(n) space complexity due to the storage of complete_set, nums_set, and missing. \n",
    "# This space complexity is determined by the need to store sets and the potential size of the output list missing."
   ]
  },
  {
   "cell_type": "markdown",
   "metadata": {},
   "source": [
    "\n",
    "-   Critique your partner's solution, including explanation, and if there is anything that should be adjusted.\n"
   ]
  },
  {
   "cell_type": "code",
   "execution_count": 10,
   "metadata": {},
   "outputs": [],
   "source": [
    "# Your answer here\n",
    "'''\n",
    "The current implementation of missing_num is effective in identifying missing numbers. However, there some areas for improvement.\n",
    "\n",
    "This solution of missing_num determines the range [0, n] based on the length of nums (n = len(nums)), which can lead to incorrect results.\n",
    "For example, with nums = [0, 1, 2], n is set to 3 (length of nums) instead of 2 (maximum value in nums).\n",
    "This might cause the function to incorrectly identify 3 as a missing number in the range [0, 2], instead of showing [-1] (as there are no missing numbers).\n",
    "\n",
    "Adjustments for Improvement:\n",
    "Correct n Calculation: Use max(nums) instead of len(nums) to correctly determine n based on the maximum value present in nums.\n",
    "Optimize Set Operations: Instead of creating complete_set, go directly through numbers up to n to find missing numbers, reducing space complexity.\n",
    "\n",
    "'''"
   ]
  },
  {
   "cell_type": "markdown",
   "metadata": {},
   "source": [
    "\n",
    "## Part 3:\n",
    "\n",
    "Please write a 200 word reflection documenting your process from assignment 1, and your presentation and review experience with your partner at the bottom of the Jupyter Notebook under a new heading \"Reflection.\" Again, export this Notebook as pdf.\n"
   ]
  },
  {
   "cell_type": "markdown",
   "metadata": {},
   "source": [
    "### Reflection"
   ]
  },
  {
   "cell_type": "code",
   "execution_count": 13,
   "metadata": {},
   "outputs": [],
   "source": [
    "# Your answer here\n",
    "\n",
    "''' \n",
    "\n",
    "Reflecting on Assignment 1 and Assignment 2 provides insights into different approaches for solving the problem of finding missing numbers \n",
    "in a list of integers within the range [0, n].\n",
    "\n",
    "In Assignment 1, my approach was to go through numbers up to n, checking each number's presence in a set \n",
    "taken from the input list nums. This method efficiently identified missing numbers by appending them to a list \n",
    "if absent from the set. It handled edge cases by returning -1 if no numbers were missing, ensuring comprehensive problem coverage.\n",
    "\n",
    "Assignment 2 introduced set operations, offering a more concise and potentially faster solution compared to my approach in Assignment 1. \n",
    "However, my partner initially used len(nums) to determine n, leading to an incorrect range calculation. \n",
    "This oversight could affect the accuracy of identifying missing numbers.\n",
    "\n",
    "By combining both approaches, we can get an effective method to find missing numbers in the range [0, n]. \n",
    "These assignments underscore the importance of carefully considering input constraints and utilizing appropriate data structures. \n",
    "They demonstrate that diverse mindsets can generate multiple solutions, while collaboration and critical reflection are essential \n",
    "for refining approaches to optimize efficiency and accuracy in problem-solving.\n",
    "\n",
    "Overall, this activity emphasized the significance of teamwork and thoughtful analysis in achieving effective solutions to complex problems.\n",
    "\n",
    "'''"
   ]
  },
  {
   "cell_type": "markdown",
   "metadata": {},
   "source": [
    "\n",
    "## Evaluation Criteria\n",
    "\n",
    "We are looking for the similar points as Assignment 1\n",
    "\n",
    "-   Problem is accurately stated\n",
    "\n",
    "-   New example is correct and easily understandable\n",
    "\n",
    "-   Correctness, time, and space complexity of the coding solution\n",
    "\n",
    "-   Clarity in explaining why the solution works, its time and space complexity\n",
    "\n",
    "-   Quality of critique of your partner's assignment, if necessary\n"
   ]
  },
  {
   "cell_type": "markdown",
   "metadata": {},
   "source": [
    "## Submission Information\n",
    "\n",
    "🚨 **Please review our [Assignment Submission Guide](https://github.com/UofT-DSI/onboarding/blob/main/onboarding_documents/submissions.md)** 🚨 for detailed instructions on how to format, branch, and submit your work. Following these guidelines is crucial for your submissions to be evaluated correctly.\n",
    "\n",
    "### Submission Parameters:\n",
    "* Submission Due Date: `HH:MM AM/PM - DD/MM/YYYY`\n",
    "* The branch name for your repo should be: `assignment-2`\n",
    "* What to submit for this assignment:\n",
    "    * This Jupyter Notebook (assignment_2.ipynb) should be populated and should be the only change in your pull request.\n",
    "* What the pull request link should look like for this assignment: `https://github.com/<your_github_username>/algorithms_and_data_structures/pull/<pr_id>`\n",
    "    * Open a private window in your browser. Copy and paste the link to your pull request into the address bar. Make sure you can see your pull request properly. This helps the technical facilitator and learning support staff review your submission easily.\n",
    "\n",
    "Checklist:\n",
    "- [ ] Created a branch with the correct naming convention.\n",
    "- [ ] Ensured that the repository is public.\n",
    "- [ ] Reviewed the PR description guidelines and adhered to them.\n",
    "- [ ] Verify that the link is accessible in a private browser window.\n",
    "\n",
    "If you encounter any difficulties or have questions, please don't hesitate to reach out to our team via our Slack at `#cohort-3-help`. Our Technical Facilitators and Learning Support staff are here to help you navigate any challenges.\n"
   ]
  }
 ],
 "metadata": {
  "kernelspec": {
   "display_name": "dsi_participant",
   "language": "python",
   "name": "python3"
  },
  "language_info": {
   "codemirror_mode": {
    "name": "ipython",
    "version": 3
   },
   "file_extension": ".py",
   "mimetype": "text/x-python",
   "name": "python",
   "nbconvert_exporter": "python",
   "pygments_lexer": "ipython3",
   "version": "3.9.15"
  }
 },
 "nbformat": 4,
 "nbformat_minor": 2
}
