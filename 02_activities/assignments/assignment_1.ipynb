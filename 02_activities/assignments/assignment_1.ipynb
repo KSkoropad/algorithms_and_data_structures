{
 "cells": [
  {
   "cell_type": "markdown",
   "metadata": {},
   "source": [
    "# Coding Problems\n",
    "\n",
    "## Objective\n",
    "\n",
    "This assignment aims to demonstrate how to study a data structures or algorithms question in depth to prepare for an industry coding interview. Leetcode is a popular coding practice site that many use to practice for technical interviews. Like behavioral interviews, it's important to practice and keep your skills sharp.\n",
    "\n",
    "## Group Size\n",
    "\n",
    "Please complete this individually.\n",
    "\n",
    "## Part 1:\n",
    "\n",
    "_*You will be assigned one of three problems based of your first name. Execute the code below, and that will tell you your assigned problem. Include the output as part of your submission (do not clear the output). The problems are based-off problems from Leetcode.*_\n"
   ]
  },
  {
   "cell_type": "code",
   "execution_count": 1,
   "metadata": {},
   "outputs": [
    {
     "name": "stdout",
     "output_type": "stream",
     "text": [
      "3\n"
     ]
    }
   ],
   "source": [
    "print((hash('kateryna') % 3) + 1)"
   ]
  },
  {
   "cell_type": "markdown",
   "metadata": {},
   "source": [
    "<details>\n",
    "  <summary>Question 1</summary>\n",
    "\n",
    "  # Question One: Check Duplicates in Tree\n",
    "\n",
    "  Given the `root` of a binary tree, check whether it is contains a duplicate value. If a duplicate exists, return the duplicate value. If there are multiple duplicates, return the one with the closest distance to the root. If no duplicate exists, return -1.\n",
    "\n",
    "  ## Examples\n",
    "\n",
    "  ### Example 1\n",
    "\n",
    "  ![](./images/q1_ex1.png)\n",
    "\n",
    "  Input: `root = [1, 2, 2, 3, 5, 6, 7]` *What traversal method is this?*\n",
    "\n",
    "  Output: 2\n",
    "\n",
    "  ### Example 2\n",
    "\n",
    "  ![](./images/q1_ex2.png)\n",
    "\n",
    "  Input: `root = [1, 10, 2, 3, 10, 12, 12]`\n",
    "\n",
    "  Output: 10\n",
    "\n",
    "  ### Example 3\n",
    "\n",
    "  ![](./images/q1_ex3.png)\n",
    "\n",
    "  Input: `root = [10, 9, 8, 7]`\n",
    "\n",
    "  Output: -1\n",
    "\n",
    "</details>\n",
    "\n",
    "#### Starter Code for Question 1"
   ]
  },
  {
   "cell_type": "code",
   "execution_count": null,
   "metadata": {},
   "outputs": [],
   "source": [
    "# Definition for a binary tree node.\n",
    "# class TreeNode(object):\n",
    "#     def __init__(self, val = 0, left = None, right = None):\n",
    "#         self.val = val\n",
    "#         self.left = left\n",
    "#         self.right = right\n",
    "def is_duplicate(root: TreeNode) -> int:\n",
    "  # TODO"
   ]
  },
  {
   "cell_type": "markdown",
   "metadata": {},
   "source": [
    "<details>\n",
    "  <summary>Question 2</summary>\n",
    "\n",
    "  # Question Two: Path to Leaves\n",
    "\n",
    "  Given the `root` of a binary tree, return all root to leaf paths in any order.\n",
    "\n",
    "  ## Examples\n",
    "\n",
    "  ### Example 1\n",
    "\n",
    "  ![](./images/q1_ex1.png)\n",
    "\n",
    "  Input: `root = [1, 2, 2, 3, 5, 6, 7]` *What traversal method is this?*\n",
    "\n",
    "  Output: [[1, 2, 3], [1, 2, 5], [1, 2, 6], [1, 2, 7]]\n",
    "\n",
    "  ### Example 2\n",
    "\n",
    "  ![](./images/q1_ex3.png)\n",
    "\n",
    "  Input: `root = [10, 9, 7, 8]`\n",
    "\n",
    "  Output: [[10, 7], [10, 9, 8]]\n",
    "\n",
    "</details>\n",
    "\n",
    "#### Starter Code for Question 2"
   ]
  },
  {
   "cell_type": "code",
   "execution_count": null,
   "metadata": {},
   "outputs": [],
   "source": [
    "# Definition for a binary tree node.\n",
    "# class TreeNode(object):\n",
    "#     def __init__(self, val = 0, left = None, right = None):\n",
    "#         self.val = val\n",
    "#         self.left = left\n",
    "#         self.right = right\n",
    "def bt_path(root: TreeNode) -> List[List[int]]:\n",
    "  # TODO"
   ]
  },
  {
   "cell_type": "markdown",
   "metadata": {},
   "source": [
    "<details>\n",
    "  <summary>Question 3</summary>\n",
    "\n",
    "  # Question Three: Missing Number in Range\n",
    " \n",
    "  You are given a list containing `n` integers in the range `[0, n]`. Return a list of numbers that are missing from the range `[0, n]` of the array. If there is no missing number, return -1. Note, all the integers in the list may not be unique.\n",
    "  \n",
    "  ## Examples\n",
    "\n",
    "  ### Example 1\n",
    "\n",
    "  Input: `lst = [0, 2]`\n",
    "\n",
    "  Output: [1]\n",
    "\n",
    "  ### Example 2\n",
    "\n",
    "  Input: `lst = [5, 0, 1]`\n",
    "\n",
    "  Output: [2, 3, 4]\n",
    "\n",
    "  ### Example 3\n",
    "\n",
    "  Input: `lst = [6, 8, 2, 3, 5, 7, 0, 1, 10]`\n",
    "\n",
    "  Output: [4, 9]\n",
    "\n",
    "</details>\n",
    "\n",
    "#### Starter Code for Question 3\n"
   ]
  },
  {
   "cell_type": "code",
   "execution_count": null,
   "metadata": {},
   "outputs": [],
   "source": [
    "def missing_num(nums: List) -> int:\n",
    "    #TODO"
   ]
  },
  {
   "cell_type": "markdown",
   "metadata": {},
   "source": [
    "\n",
    "## Part 2:\n",
    "\n",
    "-   Paraphrase the problem in your own words\n"
   ]
  },
  {
   "cell_type": "code",
   "execution_count": null,
   "metadata": {},
   "outputs": [],
   "source": [
    "# Your answer here\n",
    "'''Given a list of integers where each integer is between 0 and n (inclusive), \n",
    "find and return any numbers that are missing from the range [0, n]. \n",
    "If all numbers from 0 to n are present in the list, return -1.'''"
   ]
  },
  {
   "cell_type": "markdown",
   "metadata": {},
   "source": [
    "- In this .ipynb file, there are examples that illustrate how the code should work (the examples provided above). Create 2 new examples for the question you have been assigned, that demonstrate you understand the problem. For question 1 and 2, you don't need to create the tree demonstration, just the input and output.\n"
   ]
  },
  {
   "cell_type": "code",
   "execution_count": null,
   "metadata": {},
   "outputs": [],
   "source": [
    "# Your answer here\n",
    "# Input lst = [0, 3, 4, 6, 7]\n",
    "# Output [1, 2, 5]\n",
    "\n",
    "# Input lst = [2, 0, 1,]\n",
    "# Output [-1]"
   ]
  },
  {
   "cell_type": "markdown",
   "metadata": {},
   "source": [
    "\n",
    "-   Code the solution to your assigned problem in Python (code chunk). Try to find the best time and space complexity solution!\n"
   ]
  },
  {
   "cell_type": "code",
   "execution_count": 42,
   "metadata": {},
   "outputs": [
    {
     "name": "stdout",
     "output_type": "stream",
     "text": [
      "[1, 3, 4]\n"
     ]
    }
   ],
   "source": [
    "# Your answer here\n",
    "def missing_num(nums: List) -> int:\n",
    "    \n",
    "    n = max(nums)\n",
    "    num_set = set(nums) #\n",
    "    \n",
    "    missing_numbers = []\n",
    "    for i in range(n):\n",
    "        if i not in num_set:\n",
    "            missing_numbers.append(i)\n",
    "    \n",
    "    if not missing_numbers:\n",
    "        return [-1]  # Return -1 if there are no missing numbers\n",
    "    else:\n",
    "        return missing_numbers\n",
    "\n",
    "    \n",
    "\n",
    "# Example usage:\n",
    "nums = [0, 2, 5]\n",
    "print(missing_num(nums))  # Output: [1, 3, 4]"
   ]
  },
  {
   "cell_type": "markdown",
   "metadata": {},
   "source": [
    "\n",
    "-   Explain why your solution works\n"
   ]
  },
  {
   "cell_type": "code",
   "execution_count": null,
   "metadata": {},
   "outputs": [],
   "source": [
    "# Your answer here\n",
    "'''\n",
    "n = max(nums) \n",
    "This line determines the maximum number present in the list nums. \n",
    "This is essential because the function needs to know the range of numbers from 0 to n to identify missing numbers.\n",
    "\n",
    "num_set = set(nums) \n",
    "The function converts the list nums into a set num_set. Using a set is advantageous because it allows for average \n",
    "O(1) time complexity for membership checks (i not in num_set).\n",
    "\n",
    "missing_numbers = []\n",
    "for i in range(n):\n",
    "    if i not in num_set:\n",
    "        missing_numbers.append(i)\n",
    "It iterates through every number from 0 to n-1. For each number i, it checks if i is not present in num_set. \n",
    "If i is missing from num_set, it means i is a missing number, so it gets appended to missing_numbers.\n",
    "\n",
    "if not missing_numbers:\n",
    "    return [-1]  # Return -1 if there are no missing numbers\n",
    "else:\n",
    "    return missing_numbers\n",
    "the function checks if missing_numbers is empty. If it is empty, it means there are no missing numbers \n",
    "from 0 to n-1, so it returns [-1]. Otherwise, it returns the list missing_numbers containing all missing numbers.\n",
    "\n",
    "\n",
    "Example: Suppose nums = [3, 0, 1].\n",
    "max(nums) returns 3, so n = 3.\n",
    "set(nums) converts nums to {0, 1, 3}.\n",
    "The loop for i in range(3) iterates through 0, 1, 2.\n",
    "For i = 2, 2 is not in {0, 1, 3}, so missing_numbers would include 2.\n",
    "So, missing_numbers would be [2], indicating 2 is the missing number from 0 to 3.\n",
    "'''"
   ]
  },
  {
   "cell_type": "markdown",
   "metadata": {},
   "source": [
    "\n",
    "-   Explain the problem’s time and space complexity\n"
   ]
  },
  {
   "cell_type": "code",
   "execution_count": null,
   "metadata": {},
   "outputs": [],
   "source": [
    "# Your answer here\n",
    "'''\n",
    "Time Complexity:\n",
    "\n",
    "Finding the Maximum Element (max(nums)):\n",
    "Finding the maximum element in the list nums requires scanning through the entire list once. The time complexity for this operation is\n",
    "O(n), where n is the number of elements in nums.\n",
    "\n",
    "Creating a Set (set(nums)):\n",
    "Constructing a set from the list nums also involves iterating through all elements of nums and inserting each element into the set.\n",
    "The time complexity for this operation is O(n).\n",
    "\n",
    "Iterating through a Range (for i in range(n)):\n",
    "The function then iterates through a range from 0 to n-1, where n is the maximum element found in nums. \n",
    "This loop runs in O(n) time because it iterates n times.\n",
    "\n",
    "\n",
    "Checking membership in a set (num_set) is on average O(1) time complexity. However, since this check happens potentially \n",
    "n times in the worst case, the overall time complexity for this part is O(n).\n",
    "\n",
    "Space Complexity \n",
    "\n",
    "Set Storage (num_set):\n",
    "The space occupied by num_set depends on the number of unique elements in nums. In the worst case, \n",
    "where all elements in nums are unique, num_set would store O(n) elements. Thus, the space complexity for num_set is O(n).\n",
    "\n",
    "Additional Space (missing_numbers):\n",
    "missing_numbers is a list used to store missing numbers. In the worst case, if many numbers are missing, this list could grow to contain \n",
    "O(n) elements. Therefore, the space complexity for missing_numbers is O(n).\n",
    "\n",
    "Conclusion\n",
    "Time Complexity: O(n)\n",
    "Space Complexity: O(n)\n",
    "\n",
    "'''"
   ]
  },
  {
   "cell_type": "markdown",
   "metadata": {},
   "source": [
    "\n",
    "-   Explain the thinking to an alternative solution (no coding required, but a classmate reading this should be able to code it up based off your text)\n"
   ]
  },
  {
   "cell_type": "code",
   "execution_count": null,
   "metadata": {},
   "outputs": [],
   "source": [
    "# Your answer here\n",
    "'''\n",
    "Alternative Approach: Hash Map \n",
    "\n",
    "Initialize a Hash Map:\n",
    "Start by creating an empty dictionary num_count to store counts of each number in nums.\n",
    "\n",
    "Counting Occurrences:\n",
    "Iterate through each number num in nums.\n",
    "For each num, update its count in num_count.\n",
    "\n",
    "Identifying Missing Numbers:\n",
    "Initialize an empty list missing_numbers to collect numbers that are missing.\n",
    "Iterate through numbers from 0 to n, where n is the maximum number in nums.\n",
    "For each number i in this range, check if i exists in num_count.\n",
    "If i is not found in num_count, append i to missing_numbers.\n",
    "\n",
    "Handling Edge Cases:\n",
    "After the loop, if missing_numbers remains empty, it means no numbers were missing, so return [-1].\n",
    "Otherwise, return missing_numbers containing all missing numbers in ascending order.\n",
    "\n",
    "'''"
   ]
  },
  {
   "cell_type": "markdown",
   "metadata": {},
   "source": [
    "## Evaluation Criteria\n",
    "\n",
    "-   Problem is accurately stated\n",
    "\n",
    "-   Two examples are correct and easily understandable\n",
    "\n",
    "-   Correctness, time, and space complexity of the coding solution\n",
    "\n",
    "-   Clarity in explaining why the solution works, its time and space complexity\n",
    "\n",
    "-   Clarity in the proposal to the alternative solution"
   ]
  },
  {
   "cell_type": "markdown",
   "metadata": {},
   "source": [
    "## Submission Information\n",
    "\n",
    "🚨 **Please review our [Assignment Submission Guide](https://github.com/UofT-DSI/onboarding/blob/main/onboarding_documents/submissions.md)** 🚨 for detailed instructions on how to format, branch, and submit your work. Following these guidelines is crucial for your submissions to be evaluated correctly.\n",
    "\n",
    "### Submission Parameters:\n",
    "* Submission Due Date: `HH:MM AM/PM - DD/MM/YYYY`\n",
    "* The branch name for your repo should be: `assignment-1`\n",
    "* What to submit for this assignment:\n",
    "    * This Jupyter Notebook (assignment_1.ipynb) should be populated and should be the only change in your pull request.\n",
    "* What the pull request link should look like for this assignment: `https://github.com/<your_github_username>/algorithms_and_data_structures/pull/<pr_id>`\n",
    "    * Open a private window in your browser. Copy and paste the link to your pull request into the address bar. Make sure you can see your pull request properly. This helps the technical facilitator and learning support staff review your submission easily.\n",
    "\n",
    "Checklist:\n",
    "- [ ] Create a branch called `assignment-1`.\n",
    "- [ ] Ensure that the repository is public.\n",
    "- [ ] Review [the PR description guidelines](https://github.com/UofT-DSI/onboarding/blob/main/onboarding_documents/submissions.md#guidelines-for-pull-request-descriptions) and adhere to them.\n",
    "- [ ] Verify that the link is accessible in a private browser window.\n",
    "\n",
    "If you encounter any difficulties or have questions, please don't hesitate to reach out to our team via our Slack at `#cohort-3-help`. Our Technical Facilitators and Learning Support staff are here to help you navigate any challenges."
   ]
  }
 ],
 "metadata": {
  "kernelspec": {
   "display_name": "Python 3",
   "language": "python",
   "name": "python3"
  },
  "language_info": {
   "codemirror_mode": {
    "name": "ipython",
    "version": 3
   },
   "file_extension": ".py",
   "mimetype": "text/x-python",
   "name": "python",
   "nbconvert_exporter": "python",
   "pygments_lexer": "ipython3",
   "version": "3.9.15"
  }
 },
 "nbformat": 4,
 "nbformat_minor": 2
}
